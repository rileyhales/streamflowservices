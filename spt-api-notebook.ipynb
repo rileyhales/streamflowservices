{
 "cells": [
  {
   "cell_type": "code",
   "execution_count": 1,
   "metadata": {},
   "outputs": [],
   "source": [
    "import requests\n",
    "import time\n",
    "endpoint = 'http://global-streamflow-prediction.eastus.azurecontainer.io/api/'\n",
    "params = [\n",
    "    {'region': 'central_america-geoglows', 'reach_id': 900500, 'return_format': 'csv'},\n",
    "    {'region': 'africa-geoglows', 'lat': 7.94, 'lon': 8.02, 'return_format': 'csv'},\n",
    "    {'region': 'africa-geoglows', 'reach_id': 7002500, 'return_format': 'csv'},\n",
    "    {'region': 'africa-continental', 'lat': 7.94, 'lon': 8.02, 'return_format': 'csv'},\n",
    "    {'region': 'africa-continental', 'reach_id': 125180, 'return_format': 'csv'},\n",
    "    {'region': 'south_asia-mainland', 'reach_id': 57402, 'return_format': 'csv'}\n",
    "]\n",
    "alltime = []"
   ]
  },
  {
   "cell_type": "code",
   "execution_count": 5,
   "metadata": {},
   "outputs": [
    {
     "name": "stdout",
     "output_type": "stream",
     "text": [
      "{\"available_regions\":[\"africa-continental\",\"africa-geoglows\",\"central_america-geoglows\",\"central_america-merit\",\"dominican_republic-hand\",\"north_america-continental\",\"south_america-continental\",\"south_america-geoglows\",\"south_asia-geoglows\",\"south_asia-mainland\"]}\n",
      "\n",
      "0.32816529273986816\n"
     ]
    }
   ],
   "source": [
    "# AvailableRegions\n",
    "start = time.time()\n",
    "data = requests.get(endpoint + 'AvailableRegions')\n",
    "print(data.text)\n",
    "print(time.time() - start)"
   ]
  },
  {
   "cell_type": "code",
   "execution_count": 3,
   "metadata": {},
   "outputs": [],
   "source": [
    "# AvailableDates\n",
    "start = time.time()\n",
    "data = requests.get(endpoint + 'AvailableDates')\n",
    "print(time.time() - start)"
   ]
  },
  {
   "cell_type": "code",
   "execution_count": 4,
   "metadata": {},
   "outputs": [],
   "source": [
    "# ReturnPeriods\n",
    "# data = requests.get(endpoint + 'ReturnPeriods', params=params)\n",
    "# print(data.text)"
   ]
  },
  {
   "cell_type": "code",
   "execution_count": 5,
   "metadata": {},
   "outputs": [
    {
     "name": "stdout",
     "output_type": "stream",
     "text": [
      "central_america-geoglows\n",
      "33.18103289604187\n",
      "africa-geoglows\n",
      "0.3162550926208496\n",
      "africa-geoglows\n",
      "45.3112690448761\n",
      "africa-continental\n",
      "38.75240087509155\n",
      "africa-continental\n",
      "27.60360288619995\n",
      "south_asia-mainland\n",
      "27.809364080429077\n"
     ]
    }
   ],
   "source": [
    "# ForecastStats\n",
    "for param in params:\n",
    "    start = time.time()\n",
    "    data = requests.get(endpoint + 'ForecastStats', params=param)\n",
    "    end = time.time()\n",
    "    elapsed = end - start\n",
    "    print(param['region'])\n",
    "    print(elapsed)\n",
    "    alltime.append(elapsed)"
   ]
  },
  {
   "cell_type": "code",
   "execution_count": 6,
   "metadata": {},
   "outputs": [
    {
     "name": "stdout",
     "output_type": "stream",
     "text": [
      "central_america-geoglows\n",
      "34.345274925231934\n",
      "africa-geoglows\n",
      "0.3084909915924072\n",
      "africa-geoglows\n",
      "44.99766993522644\n",
      "africa-continental\n",
      "39.60163617134094\n",
      "africa-continental\n",
      "31.370378971099854\n",
      "south_asia-mainland\n",
      "29.5639750957489\n"
     ]
    }
   ],
   "source": [
    "# ForecastEnsembles\n",
    "for param in params:\n",
    "    start = time.time()\n",
    "    data = requests.get(endpoint + 'ForecastEnsembles', params=param)\n",
    "    end = time.time()\n",
    "    elapsed = end - start\n",
    "    print(param['region'])\n",
    "    print(elapsed)\n",
    "    alltime.append(elapsed)"
   ]
  },
  {
   "cell_type": "code",
   "execution_count": 7,
   "metadata": {},
   "outputs": [
    {
     "name": "stdout",
     "output_type": "stream",
     "text": [
      "central_america-geoglows\n",
      "0.29840683937072754\n",
      "africa-geoglows\n",
      "0.30741214752197266\n",
      "africa-geoglows\n",
      "0.296083927154541\n",
      "africa-continental\n",
      "6.045830249786377\n",
      "africa-continental\n",
      "1.7026000022888184\n",
      "south_asia-mainland\n",
      "1.0900070667266846\n"
     ]
    }
   ],
   "source": [
    "# HistoricSimulation\n",
    "for param in params:\n",
    "    start = time.time()\n",
    "    data = requests.get(endpoint + 'HistoricSimulation', params=param)\n",
    "    end = time.time()\n",
    "    elapsed = end - start\n",
    "    print(param['region'])\n",
    "    print(elapsed)\n",
    "    alltime.append(elapsed)"
   ]
  },
  {
   "cell_type": "code",
   "execution_count": 8,
   "metadata": {},
   "outputs": [
    {
     "name": "stdout",
     "output_type": "stream",
     "text": [
      "central_america-geoglows\n",
      "0.306567907333374\n",
      "africa-geoglows\n",
      "0.30053210258483887\n",
      "africa-geoglows\n",
      "0.3053550720214844\n",
      "africa-continental\n",
      "5.53613018989563\n",
      "africa-continental\n",
      "0.31736326217651367\n",
      "south_asia-mainland\n",
      "0.3104219436645508\n"
     ]
    }
   ],
   "source": [
    "# SeasonalAverage\n",
    "for param in params:\n",
    "    start = time.time()\n",
    "    data = requests.get(endpoint + 'SeasonalAverage', params=param)\n",
    "    end = time.time()\n",
    "    elapsed = end - start\n",
    "    print(param['region'])\n",
    "    print(elapsed)\n",
    "    alltime.append(elapsed)"
   ]
  },
  {
   "cell_type": "code",
   "execution_count": 9,
   "metadata": {},
   "outputs": [
    {
     "name": "stdout",
     "output_type": "stream",
     "text": [
      "[33.18103289604187, 0.3162550926208496, 45.3112690448761, 38.75240087509155, 27.60360288619995, 27.809364080429077, 34.345274925231934, 0.3084909915924072, 44.99766993522644, 39.60163617134094, 31.370378971099854, 29.5639750957489, 0.29840683937072754, 0.30741214752197266, 0.296083927154541, 6.045830249786377, 1.7026000022888184, 1.0900070667266846, 0.306567907333374, 0.30053210258483887, 0.3053550720214844, 5.53613018989563, 0.31736326217651367, 0.3104219436645508]\n",
      "average\n",
      "15.41575256983439\n",
      "max\n",
      "45.3112690448761\n",
      "min\n",
      "0.296083927154541\n"
     ]
    }
   ],
   "source": [
    "print(alltime)\n",
    "print('average')\n",
    "print(sum(alltime)/len(alltime))\n",
    "print('max')\n",
    "print(max(alltime))\n",
    "print('min')\n",
    "print(min(alltime))"
   ]
  },
  {
   "cell_type": "code",
   "execution_count": null,
   "metadata": {},
   "outputs": [],
   "source": []
  }
 ],
 "metadata": {
  "kernelspec": {
   "display_name": "Python 3",
   "language": "python",
   "name": "python3"
  },
  "language_info": {
   "codemirror_mode": {
    "name": "ipython",
    "version": 3
   },
   "file_extension": ".py",
   "mimetype": "text/x-python",
   "name": "python",
   "nbconvert_exporter": "python",
   "pygments_lexer": "ipython3",
   "version": "3.6.7"
  }
 },
 "nbformat": 4,
 "nbformat_minor": 2
}
